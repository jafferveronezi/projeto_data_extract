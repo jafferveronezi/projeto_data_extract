{
 "cells": [
  {
   "cell_type": "code",
   "execution_count": 2,
   "metadata": {},
   "outputs": [],
   "source": [
    "import requests\n",
    "from datetime import datetime"
   ]
  },
  {
   "cell_type": "code",
   "execution_count": 3,
   "metadata": {},
   "outputs": [
    {
     "name": "stdout",
     "output_type": "stream",
     "text": [
      "Current Timestamp = 2023-04-10 10:24:09.152377\n",
      "Date Formated = 2023-04-10 10:24:09\n"
     ]
    }
   ],
   "source": [
    "now = datetime.now()\n",
    "\n",
    "print(\"Current Timestamp =\", now)\n",
    "\n",
    "date_time_str = now.strftime(\"%Y-%m-%d %H:%M:%S\")\n",
    "\n",
    "print(\"Date Formated =\", date_time_str)"
   ]
  },
  {
   "cell_type": "code",
   "execution_count": 4,
   "metadata": {},
   "outputs": [],
   "source": [
    "url = 'https://webhook.site/05c8875e-da19-4018-8c77-bbf574d5b7a9'\n",
    "\n",
    "url_local = 'http://127.0.0.1:5000/webhook'\n",
    "\n",
    "url_ngrok_5000 = 'https://92ea-187-108-125-172.sa.ngrok.io'\n",
    "\n",
    "url_ngrok_5001 = 'https://50c2-187-108-125-172.sa.ngrok.io'\n",
    "\n",
    "url_ngrok_furlan = 'https://29ac-2804-14c-38-808e-d05d-143f-703e-760f.ngrok-free.app'\n"
   ]
  },
  {
   "attachments": {},
   "cell_type": "markdown",
   "metadata": {},
   "source": [
    "# Payload de Sucesso"
   ]
  },
  {
   "cell_type": "code",
   "execution_count": 5,
   "metadata": {},
   "outputs": [
    {
     "name": "stdout",
     "output_type": "stream",
     "text": [
      "status 200, body b'all right'\n"
     ]
    }
   ],
   "source": [
    "# mensagem_ref  = {\n",
    "#   'nome': 'Jaffer',\n",
    "#   'url_5000': 'https://50c2-187-108-125-172.sa.ngrok.io',\n",
    "#   'timestamp': date_time_str,\n",
    "#   'mensagem': 'Atividade'\n",
    "# }\n",
    "\n",
    "mensagem_ref  = {\n",
    "    'type': 'connection',\n",
    "    'body': {\n",
    "        'nome': 'Jaffer',\n",
    "        'url_5001': 'https://ac8e-187-108-125-172.ngrok-free.app',\n",
    "        'timestamp': date_time_str,\n",
    "        'mensagem': 'Atividade - port=5001'\n",
    "    }\n",
    "}\n",
    "\n",
    "response = requests.post(url_ngrok_furlan, json=mensagem_ref)\n",
    "\n",
    "print(f'status {response.status_code}, body {response.content}')"
   ]
  }
 ],
 "metadata": {
  "kernelspec": {
   "display_name": "Python 3",
   "language": "python",
   "name": "python3"
  },
  "language_info": {
   "codemirror_mode": {
    "name": "ipython",
    "version": 3
   },
   "file_extension": ".py",
   "mimetype": "text/x-python",
   "name": "python",
   "nbconvert_exporter": "python",
   "pygments_lexer": "ipython3",
   "version": "3.9.7"
  },
  "orig_nbformat": 4
 },
 "nbformat": 4,
 "nbformat_minor": 2
}
